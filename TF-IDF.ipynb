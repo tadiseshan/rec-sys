{
 "cells": [
  {
   "cell_type": "code",
   "execution_count": 1,
   "metadata": {
    "collapsed": true
   },
   "outputs": [],
   "source": [
    "import pandas as pd\n",
    "from collections import Counter"
   ]
  },
  {
   "cell_type": "code",
   "execution_count": 2,
   "metadata": {
    "collapsed": true
   },
   "outputs": [],
   "source": [
    "ratings = pd.read_csv('data/ratings.csv')\n",
    "tags = pd.read_csv('data/tags.csv', encoding = \"ISO-8859-1\")\n",
    "movies = pd.read_csv('data/movies.csv', encoding = \"ISO-8859-1\")"
   ]
  },
  {
   "cell_type": "code",
   "execution_count": 3,
   "metadata": {
    "collapsed": false
   },
   "outputs": [
    {
     "data": {
      "text/plain": [
       "13103"
      ]
     },
     "execution_count": 3,
     "metadata": {},
     "output_type": "execute_result"
    }
   ],
   "source": [
    "len(tags['tag'].unique())"
   ]
  },
  {
   "cell_type": "code",
   "execution_count": 8,
   "metadata": {
    "collapsed": false
   },
   "outputs": [
    {
     "data": {
      "text/html": [
       "<div>\n",
       "<table border=\"1\" class=\"dataframe\">\n",
       "  <thead>\n",
       "    <tr style=\"text-align: right;\">\n",
       "      <th></th>\n",
       "      <th>movieId</th>\n",
       "      <th>userId</th>\n",
       "      <th>tag</th>\n",
       "      <th>timestamp</th>\n",
       "    </tr>\n",
       "  </thead>\n",
       "  <tbody>\n",
       "    <tr>\n",
       "      <th>0</th>\n",
       "      <td>3916</td>\n",
       "      <td>12882</td>\n",
       "      <td>sports</td>\n",
       "      <td>1147195545</td>\n",
       "    </tr>\n",
       "    <tr>\n",
       "      <th>1</th>\n",
       "      <td>4085</td>\n",
       "      <td>12882</td>\n",
       "      <td>Eddie Murphy</td>\n",
       "      <td>1147195966</td>\n",
       "    </tr>\n",
       "    <tr>\n",
       "      <th>2</th>\n",
       "      <td>33660</td>\n",
       "      <td>12882</td>\n",
       "      <td>boxing</td>\n",
       "      <td>1147195514</td>\n",
       "    </tr>\n",
       "    <tr>\n",
       "      <th>3</th>\n",
       "      <td>1197</td>\n",
       "      <td>320</td>\n",
       "      <td>must show</td>\n",
       "      <td>1145964801</td>\n",
       "    </tr>\n",
       "    <tr>\n",
       "      <th>4</th>\n",
       "      <td>1396</td>\n",
       "      <td>320</td>\n",
       "      <td>must show</td>\n",
       "      <td>1145964810</td>\n",
       "    </tr>\n",
       "  </tbody>\n",
       "</table>\n",
       "</div>"
      ],
      "text/plain": [
       "   movieId  userId           tag   timestamp\n",
       "0     3916   12882        sports  1147195545\n",
       "1     4085   12882  Eddie Murphy  1147195966\n",
       "2    33660   12882        boxing  1147195514\n",
       "3     1197     320     must show  1145964801\n",
       "4     1396     320     must show  1145964810"
      ]
     },
     "execution_count": 8,
     "metadata": {},
     "output_type": "execute_result"
    }
   ],
   "source": [
    "tags.head()"
   ]
  },
  {
   "cell_type": "code",
   "execution_count": 21,
   "metadata": {
    "collapsed": false
   },
   "outputs": [],
   "source": [
    "#construct vector q \n",
    "\n",
    "tags_dict = dict()\n",
    "\n",
    "for index,row in tags.iterrows():\n",
    "    if row['movieId'] not in tags_dict:\n",
    "        tags_dict[row['movieId']] = [row['tag']]\n",
    "    else:\n",
    "        tags_dict[row['movieId']].append(row['tag'])\n",
    "\n"
   ]
  },
  {
   "cell_type": "code",
   "execution_count": 25,
   "metadata": {
    "collapsed": false
   },
   "outputs": [
    {
     "data": {
      "text/plain": [
       "['future',\n",
       " 'adventure',\n",
       " 'classic',\n",
       " 'clever',\n",
       " 'dated',\n",
       " 'funny',\n",
       " 'inconsistencies',\n",
       " 'lovable',\n",
       " 'Michael J. Fox',\n",
       " 'quirky',\n",
       " 'time travel',\n",
       " 'Futuristmovies.com',\n",
       " 'Christopher Lloyd',\n",
       " 'comedy',\n",
       " 'Michael J. Fox',\n",
       " 'quirky',\n",
       " 'time travel',\n",
       " 'silly but good',\n",
       " 'adventure',\n",
       " 'Comedy',\n",
       " 'sci-fi',\n",
       " 'time travel',\n",
       " 'Christopher Lloyd',\n",
       " 'Michael J. Fox',\n",
       " 'Robert Zemeckis',\n",
       " 'time travel',\n",
       " 'based on a book',\n",
       " 'sci-fi',\n",
       " 'time travel',\n",
       " 'comedy',\n",
       " 'humor',\n",
       " 'Michael J. Fox',\n",
       " 'Robert Zemeckis',\n",
       " 'sci-fi',\n",
       " 'attempted rape',\n",
       " 'time travel',\n",
       " 'adventure',\n",
       " 'sci-fi',\n",
       " 'time travel',\n",
       " 'alternate universe',\n",
       " 'logic complexity',\n",
       " 'thriller',\n",
       " 'time travel',\n",
       " 'adventure',\n",
       " 'time travel',\n",
       " 'time travel',\n",
       " 'alternate reality',\n",
       " 'comedy',\n",
       " 'future',\n",
       " 'sci-fi',\n",
       " 'time travel',\n",
       " 'classic',\n",
       " 'time travel',\n",
       " 'sci-fi',\n",
       " 'adventure',\n",
       " 'sci-fi',\n",
       " 'time travel',\n",
       " 'DeLorean',\n",
       " 'owned',\n",
       " '1950s',\n",
       " '1980s',\n",
       " 'Christopher Lloyd',\n",
       " 'comedy',\n",
       " 'Crispin Glover',\n",
       " 'father-son relationship',\n",
       " 'Michael J. Fox',\n",
       " 'teen',\n",
       " 'time travel',\n",
       " 'BUILDING SELF-ESTEEM',\n",
       " 'easygoing',\n",
       " 'fanciful',\n",
       " 'FINDING A WAY BACK HOME',\n",
       " 'FISH OUT OF WATER',\n",
       " 'HIGH SCHOOL LIFE',\n",
       " 'humorous',\n",
       " 'LOVE TRIANGLES',\n",
       " 'madcap',\n",
       " 'nostalgic',\n",
       " 'quirky',\n",
       " 'RACE AGAINST TIME',\n",
       " 'TIME TRAVEL',\n",
       " 'whimsical',\n",
       " 'adventure',\n",
       " 'based on a book',\n",
       " 'Christopher Lloyd',\n",
       " 'comedy',\n",
       " 'future',\n",
       " 'Michael J. Fox',\n",
       " 'Saturn Award (Best Science Fiction Film)',\n",
       " 'sci-fi',\n",
       " 'time travel',\n",
       " 'fantasy',\n",
       " 'time travel',\n",
       " 'time travel',\n",
       " 'bullying',\n",
       " 'father-son relationship',\n",
       " 'inventor',\n",
       " \"memasa's movies\",\n",
       " 'mother-son relationship',\n",
       " 'National Film Registry',\n",
       " 'powerful ending',\n",
       " 'based on a book',\n",
       " 'delorean',\n",
       " '1980s',\n",
       " 'based on a book',\n",
       " 'high school',\n",
       " 'quirky',\n",
       " 'sci-fi',\n",
       " 'Steven Spielberg',\n",
       " 'easygoing',\n",
       " '1950s',\n",
       " 'alternate reality',\n",
       " 'cliffhanger',\n",
       " 'FISH OUT OF WATER',\n",
       " 'high school',\n",
       " 'imdb top 250',\n",
       " 'inventor',\n",
       " 'love triangles',\n",
       " 'nostalgic',\n",
       " 'Saturn Award (Best Special Effects)',\n",
       " 'time loop',\n",
       " 'time travel',\n",
       " 'spielberg/lucas',\n",
       " 'classic',\n",
       " 'time travel',\n",
       " '1950s',\n",
       " 'Crispin Glover',\n",
       " 'Highly quotable',\n",
       " 'Robert Zemeckis',\n",
       " 'classic',\n",
       " 'classic',\n",
       " 'future',\n",
       " 'time travel',\n",
       " 'time travel',\n",
       " '55 movies every kid should see--Entertainment Weekly',\n",
       " '70mm',\n",
       " 'BD-Video',\n",
       " 'CLV',\n",
       " 'Spherical Blow-Up',\n",
       " 'time travel',\n",
       " 'Michael J. Fox',\n",
       " 'Robert Zemeckis',\n",
       " 'Christopher Lloyd',\n",
       " 'Classic',\n",
       " 'Crispin Glover',\n",
       " 'Lea Thompson',\n",
       " 'Michael J. Fox',\n",
       " 'Time Travel',\n",
       " '1980s',\n",
       " 'teen']"
      ]
     },
     "execution_count": 25,
     "metadata": {},
     "output_type": "execute_result"
    }
   ],
   "source": [
    "#count number of times tag is on item (TF)\n",
    "tags_dict[1270]"
   ]
  },
  {
   "cell_type": "code",
   "execution_count": 23,
   "metadata": {
    "collapsed": false
   },
   "outputs": [
    {
     "data": {
      "text/plain": [
       "2495"
      ]
     },
     "execution_count": 23,
     "metadata": {},
     "output_type": "execute_result"
    }
   ],
   "source": [
    "len(tags['movieId'].unique())"
   ]
  },
  {
   "cell_type": "code",
   "execution_count": 24,
   "metadata": {
    "collapsed": false
   },
   "outputs": [
    {
     "name": "stdout",
     "output_type": "stream",
     "text": [
      "192\n"
     ]
    }
   ],
   "source": [
    "#count number of items tag is on (DF)\n",
    "count = 0\n",
    "for tag in tags_dict.values():\n",
    "    if 'classic' in tag:\n",
    "        count +=1\n",
    "        continue\n",
    "print(count)"
   ]
  },
  {
   "cell_type": "code",
   "execution_count": 26,
   "metadata": {
    "collapsed": true
   },
   "outputs": [],
   "source": [
    "#convert DF to log(IDF) by 1 / log(df)"
   ]
  },
  {
   "cell_type": "code",
   "execution_count": 27,
   "metadata": {
    "collapsed": true
   },
   "outputs": [],
   "source": [
    "#multiply tf value by log idf"
   ]
  },
  {
   "cell_type": "code",
   "execution_count": null,
   "metadata": {
    "collapsed": true
   },
   "outputs": [],
   "source": [
    "#normalize tf vectors to unit vectors (divide each value by the euclidean length of each vector)"
   ]
  }
 ],
 "metadata": {
  "kernelspec": {
   "display_name": "Python 3",
   "language": "python",
   "name": "python3"
  },
  "language_info": {
   "codemirror_mode": {
    "name": "ipython",
    "version": 3
   },
   "file_extension": ".py",
   "mimetype": "text/x-python",
   "name": "python",
   "nbconvert_exporter": "python",
   "pygments_lexer": "ipython3",
   "version": "3.5.2"
  }
 },
 "nbformat": 4,
 "nbformat_minor": 1
}
