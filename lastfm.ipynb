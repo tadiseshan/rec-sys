{
 "cells": [
  {
   "cell_type": "code",
   "execution_count": 2,
   "metadata": {
    "collapsed": true
   },
   "outputs": [],
   "source": [
    "from sklearn.feature_extraction.text import TfidfVectorizer\n",
    "from sklearn.metrics.pairwise import linear_kernel\n",
    "import pandas as pd\n",
    "import numpy as np"
   ]
  },
  {
   "cell_type": "code",
   "execution_count": 3,
   "metadata": {
    "collapsed": false
   },
   "outputs": [],
   "source": [
    "df = pd.read_csv('artists_500.csv')"
   ]
  },
  {
   "cell_type": "code",
   "execution_count": 4,
   "metadata": {
    "collapsed": false
   },
   "outputs": [
    {
     "data": {
      "text/html": [
       "<div>\n",
       "<table border=\"1\" class=\"dataframe\">\n",
       "  <thead>\n",
       "    <tr style=\"text-align: right;\">\n",
       "      <th></th>\n",
       "      <th>artist</th>\n",
       "      <th>bio</th>\n",
       "    </tr>\n",
       "  </thead>\n",
       "  <tbody>\n",
       "    <tr>\n",
       "      <th>0</th>\n",
       "      <td>Coldplay</td>\n",
       "      <td>Coldplay is a British alternative rock band, f...</td>\n",
       "    </tr>\n",
       "    <tr>\n",
       "      <th>1</th>\n",
       "      <td>Radiohead</td>\n",
       "      <td>Radiohead are an English alternative rock band...</td>\n",
       "    </tr>\n",
       "    <tr>\n",
       "      <th>2</th>\n",
       "      <td>Sia</td>\n",
       "      <td>Sia Kate Isobelle Furler (born 18 December 197...</td>\n",
       "    </tr>\n",
       "    <tr>\n",
       "      <th>3</th>\n",
       "      <td>The Weeknd</td>\n",
       "      <td>The Weeknd, the stage name for Abel Tesfaye, i...</td>\n",
       "    </tr>\n",
       "    <tr>\n",
       "      <th>4</th>\n",
       "      <td>Drake</td>\n",
       "      <td>Aubrey “Drake” Graham (born October 24, 1986 i...</td>\n",
       "    </tr>\n",
       "    <tr>\n",
       "      <th>5</th>\n",
       "      <td>Rihanna</td>\n",
       "      <td>Robyn Rihanna Fenty (born February 20, 1988), ...</td>\n",
       "    </tr>\n",
       "    <tr>\n",
       "      <th>6</th>\n",
       "      <td>David Bowie</td>\n",
       "      <td>David Bowie (born David Robert Jones on 8th Ja...</td>\n",
       "    </tr>\n",
       "    <tr>\n",
       "      <th>7</th>\n",
       "      <td>Lady Gaga</td>\n",
       "      <td>Stefani Joanne Angelina Germanotta (born March...</td>\n",
       "    </tr>\n",
       "    <tr>\n",
       "      <th>8</th>\n",
       "      <td>The Chainsmokers</td>\n",
       "      <td>The Chainsmokers are a disc jockey/producer du...</td>\n",
       "    </tr>\n",
       "    <tr>\n",
       "      <th>9</th>\n",
       "      <td>Calvin Harris</td>\n",
       "      <td>Calvin Harris (born Adam Richard Wiles; Januar...</td>\n",
       "    </tr>\n",
       "    <tr>\n",
       "      <th>10</th>\n",
       "      <td>Bon Iver</td>\n",
       "      <td>Bon Iver is a Grammy Award winning indie folk ...</td>\n",
       "    </tr>\n",
       "    <tr>\n",
       "      <th>11</th>\n",
       "      <td>Red Hot Chili Peppers</td>\n",
       "      <td>The Red Hot Chili Peppers are a funk rock band...</td>\n",
       "    </tr>\n",
       "    <tr>\n",
       "      <th>12</th>\n",
       "      <td>Twenty One Pilots</td>\n",
       "      <td>Twenty One Pilots is an American musical duo t...</td>\n",
       "    </tr>\n",
       "    <tr>\n",
       "      <th>13</th>\n",
       "      <td>Major Lazer</td>\n",
       "      <td>Years after the zombie apocalypse ravaged the ...</td>\n",
       "    </tr>\n",
       "    <tr>\n",
       "      <th>14</th>\n",
       "      <td>The Beatles</td>\n",
       "      <td>The Beatles were an iconic rock group from Liv...</td>\n",
       "    </tr>\n",
       "    <tr>\n",
       "      <th>15</th>\n",
       "      <td>Kanye West</td>\n",
       "      <td>Kanye Omari West (born June 8, 1977 in Atlanta...</td>\n",
       "    </tr>\n",
       "    <tr>\n",
       "      <th>16</th>\n",
       "      <td>Arctic Monkeys</td>\n",
       "      <td>Arctic Monkeys are an indie rock band formed i...</td>\n",
       "    </tr>\n",
       "    <tr>\n",
       "      <th>17</th>\n",
       "      <td>Kings of Leon</td>\n",
       "      <td>Kings of Leon is an American rock band that fo...</td>\n",
       "    </tr>\n",
       "    <tr>\n",
       "      <th>18</th>\n",
       "      <td>Queen</td>\n",
       "      <td>Queen were an English rock band originally con...</td>\n",
       "    </tr>\n",
       "    <tr>\n",
       "      <th>19</th>\n",
       "      <td>The Rolling Stones</td>\n",
       "      <td>The Rolling Stones are an English rock group t...</td>\n",
       "    </tr>\n",
       "    <tr>\n",
       "      <th>20</th>\n",
       "      <td>Ariana Grande</td>\n",
       "      <td>Ariana Grande (born Ariana Grande-Butera, June...</td>\n",
       "    </tr>\n",
       "    <tr>\n",
       "      <th>21</th>\n",
       "      <td>Pink Floyd</td>\n",
       "      <td>Pink Floyd are a psychedelic/progressive rock ...</td>\n",
       "    </tr>\n",
       "    <tr>\n",
       "      <th>22</th>\n",
       "      <td>Maroon 5</td>\n",
       "      <td>Maroon 5 is an American pop rock band that ori...</td>\n",
       "    </tr>\n",
       "    <tr>\n",
       "      <th>23</th>\n",
       "      <td>Adele</td>\n",
       "      <td>Adele Laurie Blue Adkins, (born 5 May 1988), ...</td>\n",
       "    </tr>\n",
       "    <tr>\n",
       "      <th>24</th>\n",
       "      <td>Green Day</td>\n",
       "      <td>Green Day is an American punk rock band formed...</td>\n",
       "    </tr>\n",
       "    <tr>\n",
       "      <th>25</th>\n",
       "      <td>Bruno Mars</td>\n",
       "      <td>Peter Gene Hernandez (born October 8, 1985 in ...</td>\n",
       "    </tr>\n",
       "    <tr>\n",
       "      <th>26</th>\n",
       "      <td>Nirvana</td>\n",
       "      <td>There are several artists named 'Nirvana';\\n\\n...</td>\n",
       "    </tr>\n",
       "    <tr>\n",
       "      <th>27</th>\n",
       "      <td>Metallica</td>\n",
       "      <td>Metallica is an American metal band formed in ...</td>\n",
       "    </tr>\n",
       "    <tr>\n",
       "      <th>28</th>\n",
       "      <td>Daft Punk</td>\n",
       "      <td>Daft Punk  is a multi Grammy Award-winning ele...</td>\n",
       "    </tr>\n",
       "    <tr>\n",
       "      <th>29</th>\n",
       "      <td>Lana Del Rey</td>\n",
       "      <td>Elizabeth \"Lizzy\" Grant (born 21 June 1986), b...</td>\n",
       "    </tr>\n",
       "    <tr>\n",
       "      <th>...</th>\n",
       "      <td>...</td>\n",
       "      <td>...</td>\n",
       "    </tr>\n",
       "    <tr>\n",
       "      <th>470</th>\n",
       "      <td>Kaytranada</td>\n",
       "      <td>Hailing from Montreal, Canada, this young beat...</td>\n",
       "    </tr>\n",
       "    <tr>\n",
       "      <th>471</th>\n",
       "      <td>Animal Collective</td>\n",
       "      <td>Animal Collective is a musical group which for...</td>\n",
       "    </tr>\n",
       "    <tr>\n",
       "      <th>472</th>\n",
       "      <td>Parov Stelar</td>\n",
       "      <td>Marcus Füreder a.k.a. Parov Stelar lives and w...</td>\n",
       "    </tr>\n",
       "    <tr>\n",
       "      <th>473</th>\n",
       "      <td>Lenny Kravitz</td>\n",
       "      <td>Leonard Albert \"Lenny\" Kravitz (born May 26, 1...</td>\n",
       "    </tr>\n",
       "    <tr>\n",
       "      <th>474</th>\n",
       "      <td>Fatboy Slim</td>\n",
       "      <td>Fatboy Slim is a pseudonym of Quentin Leo Cook...</td>\n",
       "    </tr>\n",
       "    <tr>\n",
       "      <th>475</th>\n",
       "      <td>John Williams</td>\n",
       "      <td>There are at least five artists with this name...</td>\n",
       "    </tr>\n",
       "    <tr>\n",
       "      <th>476</th>\n",
       "      <td>Breaking Benjamin</td>\n",
       "      <td>Breaking Benjamin is a post-grunge/alternative...</td>\n",
       "    </tr>\n",
       "    <tr>\n",
       "      <th>477</th>\n",
       "      <td>Billy Talent</td>\n",
       "      <td>Billy Talent is a Juno Award-winning Canadian ...</td>\n",
       "    </tr>\n",
       "    <tr>\n",
       "      <th>478</th>\n",
       "      <td>Cream</td>\n",
       "      <td>Cream was a 1960s three-piece British band con...</td>\n",
       "    </tr>\n",
       "    <tr>\n",
       "      <th>479</th>\n",
       "      <td>The Animals</td>\n",
       "      <td>The Animals were a British rock band of the 19...</td>\n",
       "    </tr>\n",
       "    <tr>\n",
       "      <th>480</th>\n",
       "      <td>Backstreet Boys</td>\n",
       "      <td>The Backstreet Boys, or BSB, is a boy band and...</td>\n",
       "    </tr>\n",
       "    <tr>\n",
       "      <th>481</th>\n",
       "      <td>Destiny's Child</td>\n",
       "      <td>Destiny's Child was a Grammy-Award winning Ame...</td>\n",
       "    </tr>\n",
       "    <tr>\n",
       "      <th>482</th>\n",
       "      <td>Alice Cooper</td>\n",
       "      <td>Alice Cooper (born Vincent Damon Furnier, Febr...</td>\n",
       "    </tr>\n",
       "    <tr>\n",
       "      <th>483</th>\n",
       "      <td>Kavinsky</td>\n",
       "      <td>Kavinsky, also known as Vincent Belorgey, is a...</td>\n",
       "    </tr>\n",
       "    <tr>\n",
       "      <th>484</th>\n",
       "      <td>Goo Goo Dolls</td>\n",
       "      <td>Goo Goo Dolls is an alternative rock band form...</td>\n",
       "    </tr>\n",
       "    <tr>\n",
       "      <th>485</th>\n",
       "      <td>Yellowcard</td>\n",
       "      <td>Yellowcard is a multi-platinum selling pop pun...</td>\n",
       "    </tr>\n",
       "    <tr>\n",
       "      <th>486</th>\n",
       "      <td>Cyndi Lauper</td>\n",
       "      <td>Cyndi Lauper (born Cynthia Ann Stephanie Laupe...</td>\n",
       "    </tr>\n",
       "    <tr>\n",
       "      <th>487</th>\n",
       "      <td>Meshuggah</td>\n",
       "      <td>Meshuggah, whose name is taken from the Hebrew...</td>\n",
       "    </tr>\n",
       "    <tr>\n",
       "      <th>488</th>\n",
       "      <td>Frédéric Chopin</td>\n",
       "      <td>Fryderyk François Chopin (1810 –1849) is one o...</td>\n",
       "    </tr>\n",
       "    <tr>\n",
       "      <th>489</th>\n",
       "      <td>J. Cole</td>\n",
       "      <td>Jermaine Lamarr Cole (born January 28, 1985 in...</td>\n",
       "    </tr>\n",
       "    <tr>\n",
       "      <th>490</th>\n",
       "      <td>Stone Temple Pilots</td>\n",
       "      <td>Stone Temple Pilots (often abbreviated as STP)...</td>\n",
       "    </tr>\n",
       "    <tr>\n",
       "      <th>491</th>\n",
       "      <td>The Tallest Man on Earth</td>\n",
       "      <td>Behind the name The Tallest Man On Earth is Kr...</td>\n",
       "    </tr>\n",
       "    <tr>\n",
       "      <th>492</th>\n",
       "      <td>Kurt Vile</td>\n",
       "      <td>Kurt Vile (born 1980 in Philadelphia) is an Am...</td>\n",
       "    </tr>\n",
       "    <tr>\n",
       "      <th>493</th>\n",
       "      <td>Alesso</td>\n",
       "      <td>Alessandro Lindblad (born July 7, 1991 in Stoc...</td>\n",
       "    </tr>\n",
       "    <tr>\n",
       "      <th>494</th>\n",
       "      <td>Editors</td>\n",
       "      <td>Editors are a British indie rock/post-punk rev...</td>\n",
       "    </tr>\n",
       "    <tr>\n",
       "      <th>495</th>\n",
       "      <td>Metric</td>\n",
       "      <td>Metric is an indie rock/New Wave band formed i...</td>\n",
       "    </tr>\n",
       "    <tr>\n",
       "      <th>496</th>\n",
       "      <td>Simple Minds</td>\n",
       "      <td>Simple Minds is a Scottish pop and rock band t...</td>\n",
       "    </tr>\n",
       "    <tr>\n",
       "      <th>497</th>\n",
       "      <td>The Cardigans</td>\n",
       "      <td>The Cardigans are a Swedish band that formed i...</td>\n",
       "    </tr>\n",
       "    <tr>\n",
       "      <th>498</th>\n",
       "      <td>Gotye</td>\n",
       "      <td>Wouter \"Wally\" De Backer (born 21 May 1980 in ...</td>\n",
       "    </tr>\n",
       "    <tr>\n",
       "      <th>499</th>\n",
       "      <td>Tory Lanez</td>\n",
       "      <td>Tory Lanez was born Daystar Peterson on July 2...</td>\n",
       "    </tr>\n",
       "  </tbody>\n",
       "</table>\n",
       "<p>500 rows × 2 columns</p>\n",
       "</div>"
      ],
      "text/plain": [
       "                       artist  \\\n",
       "0                    Coldplay   \n",
       "1                   Radiohead   \n",
       "2                         Sia   \n",
       "3                  The Weeknd   \n",
       "4                       Drake   \n",
       "5                     Rihanna   \n",
       "6                 David Bowie   \n",
       "7                   Lady Gaga   \n",
       "8            The Chainsmokers   \n",
       "9               Calvin Harris   \n",
       "10                   Bon Iver   \n",
       "11      Red Hot Chili Peppers   \n",
       "12          Twenty One Pilots   \n",
       "13                Major Lazer   \n",
       "14                The Beatles   \n",
       "15                 Kanye West   \n",
       "16             Arctic Monkeys   \n",
       "17              Kings of Leon   \n",
       "18                      Queen   \n",
       "19         The Rolling Stones   \n",
       "20              Ariana Grande   \n",
       "21                 Pink Floyd   \n",
       "22                   Maroon 5   \n",
       "23                      Adele   \n",
       "24                  Green Day   \n",
       "25                 Bruno Mars   \n",
       "26                    Nirvana   \n",
       "27                  Metallica   \n",
       "28                  Daft Punk   \n",
       "29               Lana Del Rey   \n",
       "..                        ...   \n",
       "470                Kaytranada   \n",
       "471         Animal Collective   \n",
       "472              Parov Stelar   \n",
       "473             Lenny Kravitz   \n",
       "474               Fatboy Slim   \n",
       "475             John Williams   \n",
       "476         Breaking Benjamin   \n",
       "477              Billy Talent   \n",
       "478                     Cream   \n",
       "479               The Animals   \n",
       "480           Backstreet Boys   \n",
       "481           Destiny's Child   \n",
       "482              Alice Cooper   \n",
       "483                  Kavinsky   \n",
       "484             Goo Goo Dolls   \n",
       "485                Yellowcard   \n",
       "486              Cyndi Lauper   \n",
       "487                 Meshuggah   \n",
       "488           Frédéric Chopin   \n",
       "489                   J. Cole   \n",
       "490       Stone Temple Pilots   \n",
       "491  The Tallest Man on Earth   \n",
       "492                 Kurt Vile   \n",
       "493                    Alesso   \n",
       "494                   Editors   \n",
       "495                    Metric   \n",
       "496              Simple Minds   \n",
       "497             The Cardigans   \n",
       "498                     Gotye   \n",
       "499                Tory Lanez   \n",
       "\n",
       "                                                   bio  \n",
       "0    Coldplay is a British alternative rock band, f...  \n",
       "1    Radiohead are an English alternative rock band...  \n",
       "2    Sia Kate Isobelle Furler (born 18 December 197...  \n",
       "3    The Weeknd, the stage name for Abel Tesfaye, i...  \n",
       "4    Aubrey “Drake” Graham (born October 24, 1986 i...  \n",
       "5    Robyn Rihanna Fenty (born February 20, 1988), ...  \n",
       "6    David Bowie (born David Robert Jones on 8th Ja...  \n",
       "7    Stefani Joanne Angelina Germanotta (born March...  \n",
       "8    The Chainsmokers are a disc jockey/producer du...  \n",
       "9    Calvin Harris (born Adam Richard Wiles; Januar...  \n",
       "10   Bon Iver is a Grammy Award winning indie folk ...  \n",
       "11   The Red Hot Chili Peppers are a funk rock band...  \n",
       "12   Twenty One Pilots is an American musical duo t...  \n",
       "13   Years after the zombie apocalypse ravaged the ...  \n",
       "14   The Beatles were an iconic rock group from Liv...  \n",
       "15   Kanye Omari West (born June 8, 1977 in Atlanta...  \n",
       "16   Arctic Monkeys are an indie rock band formed i...  \n",
       "17   Kings of Leon is an American rock band that fo...  \n",
       "18   Queen were an English rock band originally con...  \n",
       "19   The Rolling Stones are an English rock group t...  \n",
       "20   Ariana Grande (born Ariana Grande-Butera, June...  \n",
       "21   Pink Floyd are a psychedelic/progressive rock ...  \n",
       "22   Maroon 5 is an American pop rock band that ori...  \n",
       "23    Adele Laurie Blue Adkins, (born 5 May 1988), ...  \n",
       "24   Green Day is an American punk rock band formed...  \n",
       "25   Peter Gene Hernandez (born October 8, 1985 in ...  \n",
       "26   There are several artists named 'Nirvana';\\n\\n...  \n",
       "27   Metallica is an American metal band formed in ...  \n",
       "28   Daft Punk  is a multi Grammy Award-winning ele...  \n",
       "29   Elizabeth \"Lizzy\" Grant (born 21 June 1986), b...  \n",
       "..                                                 ...  \n",
       "470  Hailing from Montreal, Canada, this young beat...  \n",
       "471  Animal Collective is a musical group which for...  \n",
       "472  Marcus Füreder a.k.a. Parov Stelar lives and w...  \n",
       "473  Leonard Albert \"Lenny\" Kravitz (born May 26, 1...  \n",
       "474  Fatboy Slim is a pseudonym of Quentin Leo Cook...  \n",
       "475  There are at least five artists with this name...  \n",
       "476  Breaking Benjamin is a post-grunge/alternative...  \n",
       "477  Billy Talent is a Juno Award-winning Canadian ...  \n",
       "478  Cream was a 1960s three-piece British band con...  \n",
       "479  The Animals were a British rock band of the 19...  \n",
       "480  The Backstreet Boys, or BSB, is a boy band and...  \n",
       "481  Destiny's Child was a Grammy-Award winning Ame...  \n",
       "482  Alice Cooper (born Vincent Damon Furnier, Febr...  \n",
       "483  Kavinsky, also known as Vincent Belorgey, is a...  \n",
       "484  Goo Goo Dolls is an alternative rock band form...  \n",
       "485  Yellowcard is a multi-platinum selling pop pun...  \n",
       "486  Cyndi Lauper (born Cynthia Ann Stephanie Laupe...  \n",
       "487  Meshuggah, whose name is taken from the Hebrew...  \n",
       "488  Fryderyk François Chopin (1810 –1849) is one o...  \n",
       "489  Jermaine Lamarr Cole (born January 28, 1985 in...  \n",
       "490  Stone Temple Pilots (often abbreviated as STP)...  \n",
       "491  Behind the name The Tallest Man On Earth is Kr...  \n",
       "492  Kurt Vile (born 1980 in Philadelphia) is an Am...  \n",
       "493  Alessandro Lindblad (born July 7, 1991 in Stoc...  \n",
       "494  Editors are a British indie rock/post-punk rev...  \n",
       "495  Metric is an indie rock/New Wave band formed i...  \n",
       "496  Simple Minds is a Scottish pop and rock band t...  \n",
       "497  The Cardigans are a Swedish band that formed i...  \n",
       "498  Wouter \"Wally\" De Backer (born 21 May 1980 in ...  \n",
       "499  Tory Lanez was born Daystar Peterson on July 2...  \n",
       "\n",
       "[500 rows x 2 columns]"
      ]
     },
     "execution_count": 4,
     "metadata": {},
     "output_type": "execute_result"
    }
   ],
   "source": [
    "df"
   ]
  },
  {
   "cell_type": "markdown",
   "metadata": {},
   "source": [
    "*test*"
   ]
  },
  {
   "cell_type": "code",
   "execution_count": 201,
   "metadata": {
    "collapsed": true
   },
   "outputs": [],
   "source": [
    "tfidf = TfidfVectorizer(analyzer='word', ngram_range=(1,3), min_df=0, stop_words='english')"
   ]
  },
  {
   "cell_type": "code",
   "execution_count": 202,
   "metadata": {
    "collapsed": false
   },
   "outputs": [],
   "source": [
    "tfidf_matrix = tfidf.fit_transform(df['bio'].values.astype('U'))"
   ]
  },
  {
   "cell_type": "code",
   "execution_count": 203,
   "metadata": {
    "collapsed": false
   },
   "outputs": [
    {
     "data": {
      "text/plain": [
       "<500x443189 sparse matrix of type '<class 'numpy.float64'>'\n",
       "\twith 645092 stored elements in Compressed Sparse Row format>"
      ]
     },
     "execution_count": 203,
     "metadata": {},
     "output_type": "execute_result"
    }
   ],
   "source": [
    "tfidf_matrix"
   ]
  },
  {
   "cell_type": "code",
   "execution_count": 204,
   "metadata": {
    "collapsed": false
   },
   "outputs": [],
   "source": [
    "feature_names = np.array(tfidf.get_feature_names())"
   ]
  },
  {
   "cell_type": "code",
   "execution_count": 228,
   "metadata": {
    "collapsed": false
   },
   "outputs": [
    {
     "data": {
      "text/plain": [
       "array([376115,  79955, 156599, ..., 294673, 294674,      0])"
      ]
     },
     "execution_count": 228,
     "metadata": {},
     "output_type": "execute_result"
    }
   ],
   "source": [
    "dense = tfidf_matrix[70]\n",
    "tfidf_sorting = np.argsort(dense.toarray()).flatten()[::-1]\n",
    "tfidf_sorting"
   ]
  },
  {
   "cell_type": "code",
   "execution_count": 229,
   "metadata": {
    "collapsed": false
   },
   "outputs": [],
   "source": [
    "n = 20\n",
    "top_n = feature_names[tfidf_sorting][:n]"
   ]
  },
  {
   "cell_type": "code",
   "execution_count": 230,
   "metadata": {
    "collapsed": false
   },
   "outputs": [
    {
     "data": {
      "text/plain": [
       "array(['spears', 'britney', 'fatale', 'femme fatale', 'femme', 'number',\n",
       "       'album', 'baby time', 'britney jean', 'spears released', 'circus',\n",
       "       'billboard', 'hot', 'debuted', 'hot 100', 'kevin', 'selling',\n",
       "       'billboard hot', 'video', '2009 spears'], \n",
       "      dtype='<U121')"
      ]
     },
     "execution_count": 230,
     "metadata": {},
     "output_type": "execute_result"
    }
   ],
   "source": [
    "top_n"
   ]
  },
  {
   "cell_type": "code",
   "execution_count": 215,
   "metadata": {
    "collapsed": true
   },
   "outputs": [],
   "source": [
    "cosine_similarity = linear_kernel(tfidf_matrix[34], tfidf_matrix).flatten()"
   ]
  },
  {
   "cell_type": "code",
   "execution_count": 216,
   "metadata": {
    "collapsed": false
   },
   "outputs": [
    {
     "data": {
      "text/plain": [
       "array([ 34, 481, 150, 109,   5, 105, 313,   0,  70])"
      ]
     },
     "execution_count": 216,
     "metadata": {},
     "output_type": "execute_result"
    }
   ],
   "source": [
    "cosine_similarity.argsort()[:-10:-1]"
   ]
  },
  {
   "cell_type": "code",
   "execution_count": 231,
   "metadata": {
    "collapsed": false
   },
   "outputs": [
    {
     "data": {
      "text/plain": [
       "artist                                       Britney Spears\n",
       "bio       Britney Jean Spears (born on December 2, 1981 ...\n",
       "Name: 70, dtype: object"
      ]
     },
     "execution_count": 231,
     "metadata": {},
     "output_type": "execute_result"
    }
   ],
   "source": [
    "df.ix[70]"
   ]
  },
  {
   "cell_type": "code",
   "execution_count": null,
   "metadata": {
    "collapsed": true
   },
   "outputs": [],
   "source": []
  }
 ],
 "metadata": {
  "kernelspec": {
   "display_name": "Python 3",
   "language": "python",
   "name": "python3"
  },
  "language_info": {
   "codemirror_mode": {
    "name": "ipython",
    "version": 3
   },
   "file_extension": ".py",
   "mimetype": "text/x-python",
   "name": "python",
   "nbconvert_exporter": "python",
   "pygments_lexer": "ipython3",
   "version": "3.5.2"
  }
 },
 "nbformat": 4,
 "nbformat_minor": 1
}
