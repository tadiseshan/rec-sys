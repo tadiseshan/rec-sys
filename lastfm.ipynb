{
 "cells": [
  {
   "cell_type": "markdown",
   "metadata": {},
   "source": [
    "# Text Analysis: tf-idf and cosine similarity\n",
    "\n",
    "I've been trying to learn more about tf-idf and cosine similarity, so I thought working with music-related data could be a fun way to do that. Using the LastFM api, I put together a csv file of 500 of their top artists and the lengthy version of their bios. The goal of this experiment was to see if I could find similar artists based on the words in artist biographies. "
   ]
  },
  {
   "cell_type": "code",
   "execution_count": 1,
   "metadata": {
    "collapsed": false
   },
   "outputs": [
    {
     "data": {
      "text/html": [
       "<div>\n",
       "<table border=\"1\" class=\"dataframe\">\n",
       "  <thead>\n",
       "    <tr style=\"text-align: right;\">\n",
       "      <th></th>\n",
       "      <th>artist</th>\n",
       "      <th>bio</th>\n",
       "    </tr>\n",
       "  </thead>\n",
       "  <tbody>\n",
       "    <tr>\n",
       "      <th>0</th>\n",
       "      <td>Coldplay</td>\n",
       "      <td>Coldplay is a British alternative rock band, f...</td>\n",
       "    </tr>\n",
       "    <tr>\n",
       "      <th>1</th>\n",
       "      <td>Radiohead</td>\n",
       "      <td>Radiohead are an English alternative rock band...</td>\n",
       "    </tr>\n",
       "    <tr>\n",
       "      <th>2</th>\n",
       "      <td>Sia</td>\n",
       "      <td>Sia Kate Isobelle Furler (born 18 December 197...</td>\n",
       "    </tr>\n",
       "    <tr>\n",
       "      <th>3</th>\n",
       "      <td>The Weeknd</td>\n",
       "      <td>The Weeknd, the stage name for Abel Tesfaye, i...</td>\n",
       "    </tr>\n",
       "    <tr>\n",
       "      <th>4</th>\n",
       "      <td>Drake</td>\n",
       "      <td>Aubrey “Drake” Graham (born October 24, 1986 i...</td>\n",
       "    </tr>\n",
       "    <tr>\n",
       "      <th>5</th>\n",
       "      <td>Rihanna</td>\n",
       "      <td>Robyn Rihanna Fenty (born February 20, 1988), ...</td>\n",
       "    </tr>\n",
       "    <tr>\n",
       "      <th>6</th>\n",
       "      <td>David Bowie</td>\n",
       "      <td>David Bowie (born David Robert Jones on 8th Ja...</td>\n",
       "    </tr>\n",
       "    <tr>\n",
       "      <th>7</th>\n",
       "      <td>Lady Gaga</td>\n",
       "      <td>Stefani Joanne Angelina Germanotta (born March...</td>\n",
       "    </tr>\n",
       "    <tr>\n",
       "      <th>8</th>\n",
       "      <td>The Chainsmokers</td>\n",
       "      <td>The Chainsmokers are a disc jockey/producer du...</td>\n",
       "    </tr>\n",
       "    <tr>\n",
       "      <th>9</th>\n",
       "      <td>Calvin Harris</td>\n",
       "      <td>Calvin Harris (born Adam Richard Wiles; Januar...</td>\n",
       "    </tr>\n",
       "    <tr>\n",
       "      <th>10</th>\n",
       "      <td>Bon Iver</td>\n",
       "      <td>Bon Iver is a Grammy Award winning indie folk ...</td>\n",
       "    </tr>\n",
       "    <tr>\n",
       "      <th>11</th>\n",
       "      <td>Red Hot Chili Peppers</td>\n",
       "      <td>The Red Hot Chili Peppers are a funk rock band...</td>\n",
       "    </tr>\n",
       "    <tr>\n",
       "      <th>12</th>\n",
       "      <td>Twenty One Pilots</td>\n",
       "      <td>Twenty One Pilots is an American musical duo t...</td>\n",
       "    </tr>\n",
       "    <tr>\n",
       "      <th>13</th>\n",
       "      <td>Major Lazer</td>\n",
       "      <td>Years after the zombie apocalypse ravaged the ...</td>\n",
       "    </tr>\n",
       "    <tr>\n",
       "      <th>14</th>\n",
       "      <td>The Beatles</td>\n",
       "      <td>The Beatles were an iconic rock group from Liv...</td>\n",
       "    </tr>\n",
       "    <tr>\n",
       "      <th>15</th>\n",
       "      <td>Kanye West</td>\n",
       "      <td>Kanye Omari West (born June 8, 1977 in Atlanta...</td>\n",
       "    </tr>\n",
       "    <tr>\n",
       "      <th>16</th>\n",
       "      <td>Arctic Monkeys</td>\n",
       "      <td>Arctic Monkeys are an indie rock band formed i...</td>\n",
       "    </tr>\n",
       "    <tr>\n",
       "      <th>17</th>\n",
       "      <td>Kings of Leon</td>\n",
       "      <td>Kings of Leon is an American rock band that fo...</td>\n",
       "    </tr>\n",
       "    <tr>\n",
       "      <th>18</th>\n",
       "      <td>Queen</td>\n",
       "      <td>Queen were an English rock band originally con...</td>\n",
       "    </tr>\n",
       "    <tr>\n",
       "      <th>19</th>\n",
       "      <td>The Rolling Stones</td>\n",
       "      <td>The Rolling Stones are an English rock group t...</td>\n",
       "    </tr>\n",
       "  </tbody>\n",
       "</table>\n",
       "</div>"
      ],
      "text/plain": [
       "                   artist                                                bio\n",
       "0                Coldplay  Coldplay is a British alternative rock band, f...\n",
       "1               Radiohead  Radiohead are an English alternative rock band...\n",
       "2                     Sia  Sia Kate Isobelle Furler (born 18 December 197...\n",
       "3              The Weeknd  The Weeknd, the stage name for Abel Tesfaye, i...\n",
       "4                   Drake  Aubrey “Drake” Graham (born October 24, 1986 i...\n",
       "5                 Rihanna  Robyn Rihanna Fenty (born February 20, 1988), ...\n",
       "6             David Bowie  David Bowie (born David Robert Jones on 8th Ja...\n",
       "7               Lady Gaga  Stefani Joanne Angelina Germanotta (born March...\n",
       "8        The Chainsmokers  The Chainsmokers are a disc jockey/producer du...\n",
       "9           Calvin Harris  Calvin Harris (born Adam Richard Wiles; Januar...\n",
       "10               Bon Iver  Bon Iver is a Grammy Award winning indie folk ...\n",
       "11  Red Hot Chili Peppers  The Red Hot Chili Peppers are a funk rock band...\n",
       "12      Twenty One Pilots  Twenty One Pilots is an American musical duo t...\n",
       "13            Major Lazer  Years after the zombie apocalypse ravaged the ...\n",
       "14            The Beatles  The Beatles were an iconic rock group from Liv...\n",
       "15             Kanye West  Kanye Omari West (born June 8, 1977 in Atlanta...\n",
       "16         Arctic Monkeys  Arctic Monkeys are an indie rock band formed i...\n",
       "17          Kings of Leon  Kings of Leon is an American rock band that fo...\n",
       "18                  Queen  Queen were an English rock band originally con...\n",
       "19     The Rolling Stones  The Rolling Stones are an English rock group t..."
      ]
     },
     "execution_count": 1,
     "metadata": {},
     "output_type": "execute_result"
    }
   ],
   "source": [
    "from sklearn.feature_extraction.text import TfidfVectorizer\n",
    "from sklearn.metrics.pairwise import linear_kernel\n",
    "import pandas as pd\n",
    "import numpy as np\n",
    "\n",
    "#read into pandas\n",
    "data = pd.read_csv('artists_500.csv')\n",
    "data.head(20)"
   ]
  },
  {
   "cell_type": "markdown",
   "metadata": {},
   "source": [
    "## tf-idf\n",
    "\n",
    "TF-IDF is essentially a weighting system. It stands for Term Frequency - Inverse Document Frequency. It’s frequently used in information filtering and text mining - in applications like search engines and recommenders.As the name suggests, tf-idf is made up of two pieces - the term frequency, and the inverse document frequency. \n",
    "\n",
    "Term Frequency comes down to: the number of times a term appears in a document divided by the number of total terms in the document.\n",
    "\n",
    "Inverse Document Frequency is: the log of the (total number of documents / number of documents with term t in them)\n",
    "\n",
    "In the following code block, I use scikit-learn to define a model for tf-idf. For this example, I'm looking at unigrams, bigrams, and trigrams, and using sk-learn's built-in 'stop words' to exclude common english words such as 'the'. I then fit my data to the model using the .fit_transform() method. .get_feature_names() [INSERT EXPLANATION HERE]"
   ]
  },
  {
   "cell_type": "code",
   "execution_count": 2,
   "metadata": {
    "collapsed": false
   },
   "outputs": [
    {
     "data": {
      "text/plain": [
       "<500x443189 sparse matrix of type '<class 'numpy.float64'>'\n",
       "\twith 645092 stored elements in Compressed Sparse Row format>"
      ]
     },
     "execution_count": 2,
     "metadata": {},
     "output_type": "execute_result"
    }
   ],
   "source": [
    "#set up model for tfidf, using ngrams of 1, 2, 3, and excluding the list of stop words that come with sklearn\n",
    "\n",
    "tfidf = TfidfVectorizer(analyzer='word', ngram_range=(1,3), min_df=0, stop_words='english')\n",
    "tfidf_matrix = tfidf.fit_transform(data['bio'].values.astype('U'))\n",
    "feature_names = np.array(tfidf.get_feature_names())"
   ]
  },
  {
   "cell_type": "markdown",
   "metadata": {},
   "source": []
  },
  {
   "cell_type": "code",
   "execution_count": 1,
   "metadata": {
    "collapsed": true
   },
   "outputs": [],
   "source": [
    "def top_tfidf(row_num, n):\n",
    "    row = tfidf_matrix[row_num]\n",
    "    tfidf_sorting = np.argsort(row.toarray()).flatten()[::-1]\n",
    "    top_n = feature_names[tfidf_sorting][:n]\n",
    "    return top_n"
   ]
  },
  {
   "cell_type": "code",
   "execution_count": 2,
   "metadata": {
    "collapsed": true
   },
   "outputs": [],
   "source": [
    "def cos_sim(artist_id):\n",
    "    cosine_similarity = linear_kernel(tfidf_matrix[artist_id], tfidf_matrix).flatten()\n",
    "    top_sim = cosine_similarity.argsort()[:-10:-1]\n",
    "    s = [df.ix[top_sim[i]]['artist'] for i in range(len(top_sim))]\n",
    "    return s"
   ]
  },
  {
   "cell_type": "code",
   "execution_count": 228,
   "metadata": {
    "collapsed": false
   },
   "outputs": [
    {
     "data": {
      "text/plain": [
       "array([376115,  79955, 156599, ..., 294673, 294674,      0])"
      ]
     },
     "execution_count": 228,
     "metadata": {},
     "output_type": "execute_result"
    }
   ],
   "source": [
    "dense = tfidf_matrix[70]\n",
    "tfidf_sorting = np.argsort(dense.toarray()).flatten()[::-1]\n",
    "tfidf_sorting"
   ]
  },
  {
   "cell_type": "code",
   "execution_count": 229,
   "metadata": {
    "collapsed": false
   },
   "outputs": [],
   "source": [
    "n = 20\n",
    "top_n = feature_names[tfidf_sorting][:n]"
   ]
  },
  {
   "cell_type": "code",
   "execution_count": 230,
   "metadata": {
    "collapsed": false
   },
   "outputs": [
    {
     "data": {
      "text/plain": [
       "array(['spears', 'britney', 'fatale', 'femme fatale', 'femme', 'number',\n",
       "       'album', 'baby time', 'britney jean', 'spears released', 'circus',\n",
       "       'billboard', 'hot', 'debuted', 'hot 100', 'kevin', 'selling',\n",
       "       'billboard hot', 'video', '2009 spears'], \n",
       "      dtype='<U121')"
      ]
     },
     "execution_count": 230,
     "metadata": {},
     "output_type": "execute_result"
    }
   ],
   "source": [
    "top_n"
   ]
  },
  {
   "cell_type": "code",
   "execution_count": 215,
   "metadata": {
    "collapsed": true
   },
   "outputs": [],
   "source": [
    "cosine_similarity = linear_kernel(tfidf_matrix[34], tfidf_matrix).flatten()"
   ]
  },
  {
   "cell_type": "code",
   "execution_count": 216,
   "metadata": {
    "collapsed": false
   },
   "outputs": [
    {
     "data": {
      "text/plain": [
       "array([ 34, 481, 150, 109,   5, 105, 313,   0,  70])"
      ]
     },
     "execution_count": 216,
     "metadata": {},
     "output_type": "execute_result"
    }
   ],
   "source": [
    "cosine_similarity.argsort()[:-10:-1]"
   ]
  },
  {
   "cell_type": "code",
   "execution_count": 231,
   "metadata": {
    "collapsed": false
   },
   "outputs": [
    {
     "data": {
      "text/plain": [
       "artist                                       Britney Spears\n",
       "bio       Britney Jean Spears (born on December 2, 1981 ...\n",
       "Name: 70, dtype: object"
      ]
     },
     "execution_count": 231,
     "metadata": {},
     "output_type": "execute_result"
    }
   ],
   "source": [
    "df.ix[70]"
   ]
  },
  {
   "cell_type": "code",
   "execution_count": null,
   "metadata": {
    "collapsed": true
   },
   "outputs": [],
   "source": []
  }
 ],
 "metadata": {
  "kernelspec": {
   "display_name": "Python 3",
   "language": "python",
   "name": "python3"
  },
  "language_info": {
   "codemirror_mode": {
    "name": "ipython",
    "version": 3
   },
   "file_extension": ".py",
   "mimetype": "text/x-python",
   "name": "python",
   "nbconvert_exporter": "python",
   "pygments_lexer": "ipython3",
   "version": "3.5.2"
  }
 },
 "nbformat": 4,
 "nbformat_minor": 1
}
