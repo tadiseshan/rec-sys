{
 "cells": [
  {
   "cell_type": "code",
   "execution_count": 86,
   "metadata": {
    "collapsed": true
   },
   "outputs": [],
   "source": [
    "import pandas as pd"
   ]
  },
  {
   "cell_type": "code",
   "execution_count": 87,
   "metadata": {
    "collapsed": false
   },
   "outputs": [],
   "source": [
    "ratings = pd.read_csv('data/ratings.csv')\n",
    "tags = pd.read_csv('data/tags.csv', encoding = \"ISO-8859-1\")\n",
    "movies = pd.read_csv('data/movies.csv', encoding = \"ISO-8859-1\")\n",
    "N = 20"
   ]
  },
  {
   "cell_type": "code",
   "execution_count": 88,
   "metadata": {
    "collapsed": false
   },
   "outputs": [],
   "source": [
    "#create a dataframe that merges the movies and ratings csv files\n",
    "df = pd.merge(movies, ratings, on='movieId')"
   ]
  },
  {
   "cell_type": "code",
   "execution_count": 89,
   "metadata": {
    "collapsed": false
   },
   "outputs": [],
   "source": [
    "#create a GroupBy object that has all the information necessary to do calculations\n",
    "groupby_rating = df['rating'].groupby(df['title'])"
   ]
  },
  {
   "cell_type": "code",
   "execution_count": 90,
   "metadata": {
    "collapsed": false
   },
   "outputs": [
    {
     "data": {
      "text/plain": [
       "title\n",
       "Shawshank Redemption, The (1994)                        4.364362\n",
       "Godfather, The (1972)                                   4.315848\n",
       "Touch of Evil (1958)                                    4.259259\n",
       "Fight Club (1999)                                       4.258503\n",
       "Band of Brothers (2001)                                 4.247423\n",
       "12 Angry Men (1957)                                     4.246032\n",
       "Stop Making Sense (1984)                                4.220000\n",
       "Godfather: Part II, The (1974)                          4.218462\n",
       "Pulp Fiction (1994)                                     4.217781\n",
       "Matrix, The (1999)                                      4.195359\n",
       "Memento (2000)                                          4.194617\n",
       "Seven Samurai (Shichinin no samurai) (1954)             4.191860\n",
       "Amelie (Fabuleux destin d'Amélie Poulain, Le) (2001)    4.190092\n",
       "All About Eve (1950)                                    4.189655\n",
       "Best Years of Our Lives, The (1946)                     4.189655\n",
       "Usual Suspects, The (1995)                              4.180617\n",
       "City of God (Cidade de Deus) (2002)                     4.170251\n",
       "Intouchables (2011)                                     4.169231\n",
       "Bourne Identity, The (1988)                             4.166667\n",
       "Rear Window (1954)                                      4.163900\n",
       "Name: rating, dtype: float64"
      ]
     },
     "execution_count": 90,
     "metadata": {},
     "output_type": "execute_result"
    }
   ],
   "source": [
    "#find the mean of ratings for each title, sort in descending order, show us the top N\n",
    "groupby_rating.mean().sort_values(ascending=False).head(N)"
   ]
  },
  {
   "cell_type": "code",
   "execution_count": 91,
   "metadata": {
    "collapsed": false
   },
   "outputs": [],
   "source": [
    "#damped mean\n",
    "test = df['title'] == 'Fight Club (1999)'\n"
   ]
  },
  {
   "cell_type": "code",
   "execution_count": 92,
   "metadata": {
    "collapsed": false
   },
   "outputs": [
    {
     "data": {
      "text/plain": [
       "2504.0"
      ]
     },
     "execution_count": 92,
     "metadata": {},
     "output_type": "execute_result"
    }
   ],
   "source": [
    "#sum of all the ratings for fight club\n",
    "df[test]['rating'].sum()"
   ]
  },
  {
   "cell_type": "code",
   "execution_count": 93,
   "metadata": {
    "collapsed": false
   },
   "outputs": [
    {
     "data": {
      "text/plain": [
       "17.520311525301977"
      ]
     },
     "execution_count": 93,
     "metadata": {},
     "output_type": "execute_result"
    }
   ],
   "source": [
    "#k = 5 times global mean rating\n",
    "df.rating.mean()*5"
   ]
  },
  {
   "cell_type": "code",
   "execution_count": 81,
   "metadata": {
    "collapsed": false
   },
   "outputs": [
    {
     "data": {
      "text/plain": [
       "593"
      ]
     },
     "execution_count": 81,
     "metadata": {},
     "output_type": "execute_result"
    }
   ],
   "source": [
    "#number of ratings of fight club + k = 5\n",
    "len(df[test]['rating']) + 5"
   ]
  },
  {
   "cell_type": "code",
   "execution_count": 83,
   "metadata": {
    "collapsed": false
   },
   "outputs": [
    {
     "data": {
      "text/plain": [
       "4.2521421779516055"
      ]
     },
     "execution_count": 83,
     "metadata": {},
     "output_type": "execute_result"
    }
   ],
   "source": [
    "#damped mean for fight club\n",
    "((df[test]['rating'].sum())+(df.rating.mean()*5))/(len(df[test]['rating']) + 5)"
   ]
  },
  {
   "cell_type": "code",
   "execution_count": 96,
   "metadata": {
    "collapsed": true
   },
   "outputs": [],
   "source": [
    "#compute basic association rule\n",
    "#find fraction of users that purchased i and j\n",
    "#find fraction of users that purchased j (ex: star wars)"
   ]
  },
  {
   "cell_type": "code",
   "execution_count": 189,
   "metadata": {
    "collapsed": false
   },
   "outputs": [
    {
     "data": {
      "text/plain": [
       "128"
      ]
     },
     "execution_count": 189,
     "metadata": {},
     "output_type": "execute_result"
    }
   ],
   "source": [
    "#find fraction of users that rated j (reference item) ex: star wars\n",
    "j = df['movieId'] == 2761\n",
    "len(df[j]['userId'].unique()) #535 unique users who rated star wars"
   ]
  },
  {
   "cell_type": "code",
   "execution_count": 202,
   "metadata": {
    "collapsed": false
   },
   "outputs": [
    {
     "data": {
      "text/plain": [
       "21"
      ]
     },
     "execution_count": 202,
     "metadata": {},
     "output_type": "execute_result"
    }
   ],
   "source": [
    "#find fraction of users that rated i (fight club in this case)\n",
    "i = df['movieId'] == 2532\n",
    "len(df[i]['userId'].unique()) # 668\n"
   ]
  },
  {
   "cell_type": "code",
   "execution_count": 203,
   "metadata": {
    "collapsed": false
   },
   "outputs": [],
   "source": [
    "fc = pd.Series(df[i]['userId'].unique())\n",
    "sw = pd.Series(df[j]['userId'].unique())"
   ]
  },
  {
   "cell_type": "code",
   "execution_count": 204,
   "metadata": {
    "collapsed": false
   },
   "outputs": [],
   "source": [
    "inter = set(fc).intersection(set(sw))"
   ]
  },
  {
   "cell_type": "code",
   "execution_count": 205,
   "metadata": {
    "collapsed": false
   },
   "outputs": [
    {
     "data": {
      "text/plain": [
       "0.028037383177570093"
      ]
     },
     "execution_count": 205,
     "metadata": {},
     "output_type": "execute_result"
    }
   ],
   "source": [
    "#basic association rule outcome\n",
    "len(inter) / 535"
   ]
  },
  {
   "cell_type": "code",
   "execution_count": 206,
   "metadata": {
    "collapsed": false
   },
   "outputs": [
    {
     "data": {
      "text/plain": [
       "4.810267857142858"
      ]
     },
     "execution_count": 206,
     "metadata": {},
     "output_type": "execute_result"
    }
   ],
   "source": [
    "(len(inter)/862)/((128/862)*(21/862))"
   ]
  },
  {
   "cell_type": "code",
   "execution_count": 197,
   "metadata": {
    "collapsed": false
   },
   "outputs": [
    {
     "data": {
      "text/plain": [
       "862"
      ]
     },
     "execution_count": 197,
     "metadata": {},
     "output_type": "execute_result"
    }
   ],
   "source": [
    "len(df['userId'].unique())"
   ]
  },
  {
   "cell_type": "code",
   "execution_count": null,
   "metadata": {
    "collapsed": true
   },
   "outputs": [],
   "source": []
  }
 ],
 "metadata": {
  "kernelspec": {
   "display_name": "Python 3",
   "language": "python",
   "name": "python3"
  },
  "language_info": {
   "codemirror_mode": {
    "name": "ipython",
    "version": 3
   },
   "file_extension": ".py",
   "mimetype": "text/x-python",
   "name": "python",
   "nbconvert_exporter": "python",
   "pygments_lexer": "ipython3",
   "version": "3.5.2"
  }
 },
 "nbformat": 4,
 "nbformat_minor": 1
}
