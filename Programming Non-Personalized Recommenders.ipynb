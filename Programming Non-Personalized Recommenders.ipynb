{
 "cells": [
  {
   "cell_type": "code",
   "execution_count": 86,
   "metadata": {
    "collapsed": true
   },
   "outputs": [],
   "source": [
    "import pandas as pd"
   ]
  },
  {
   "cell_type": "code",
   "execution_count": 87,
   "metadata": {
    "collapsed": false
   },
   "outputs": [],
   "source": [
    "ratings = pd.read_csv('data/ratings.csv')\n",
    "tags = pd.read_csv('data/tags.csv', encoding = \"ISO-8859-1\")\n",
    "movies = pd.read_csv('data/movies.csv', encoding = \"ISO-8859-1\")\n",
    "N = 20"
   ]
  },
  {
   "cell_type": "code",
   "execution_count": 88,
   "metadata": {
    "collapsed": false
   },
   "outputs": [],
   "source": [
    "#create a dataframe that merges the movies and ratings csv files\n",
    "df = pd.merge(movies, ratings, on='movieId')"
   ]
  },
  {
   "cell_type": "code",
   "execution_count": 89,
   "metadata": {
    "collapsed": false
   },
   "outputs": [],
   "source": [
    "#create a GroupBy object that has all the information necessary to do calculations\n",
    "groupby_rating = df['rating'].groupby(df['title'])"
   ]
  },
  {
   "cell_type": "code",
   "execution_count": 90,
   "metadata": {
    "collapsed": false
   },
   "outputs": [
    {
     "data": {
      "text/plain": [
       "title\n",
       "Shawshank Redemption, The (1994)                        4.364362\n",
       "Godfather, The (1972)                                   4.315848\n",
       "Touch of Evil (1958)                                    4.259259\n",
       "Fight Club (1999)                                       4.258503\n",
       "Band of Brothers (2001)                                 4.247423\n",
       "12 Angry Men (1957)                                     4.246032\n",
       "Stop Making Sense (1984)                                4.220000\n",
       "Godfather: Part II, The (1974)                          4.218462\n",
       "Pulp Fiction (1994)                                     4.217781\n",
       "Matrix, The (1999)                                      4.195359\n",
       "Memento (2000)                                          4.194617\n",
       "Seven Samurai (Shichinin no samurai) (1954)             4.191860\n",
       "Amelie (Fabuleux destin d'Amélie Poulain, Le) (2001)    4.190092\n",
       "All About Eve (1950)                                    4.189655\n",
       "Best Years of Our Lives, The (1946)                     4.189655\n",
       "Usual Suspects, The (1995)                              4.180617\n",
       "City of God (Cidade de Deus) (2002)                     4.170251\n",
       "Intouchables (2011)                                     4.169231\n",
       "Bourne Identity, The (1988)                             4.166667\n",
       "Rear Window (1954)                                      4.163900\n",
       "Name: rating, dtype: float64"
      ]
     },
     "execution_count": 90,
     "metadata": {},
     "output_type": "execute_result"
    }
   ],
   "source": [
    "#find the mean of ratings for each title, sort in descending order, show us the top N\n",
    "groupby_rating.mean().sort_values(ascending=False).head(N)"
   ]
  },
  {
   "cell_type": "code",
   "execution_count": 208,
   "metadata": {
    "collapsed": false
   },
   "outputs": [],
   "source": [
    "#damped mean\n",
    "test = df['movieId'] == 2959"
   ]
  },
  {
   "cell_type": "code",
   "execution_count": 209,
   "metadata": {
    "collapsed": false
   },
   "outputs": [
    {
     "data": {
      "text/plain": [
       "2504.0"
      ]
     },
     "execution_count": 209,
     "metadata": {},
     "output_type": "execute_result"
    }
   ],
   "source": [
    "#sum of all the ratings for fight club\n",
    "df[test]['rating'].sum()"
   ]
  },
  {
   "cell_type": "code",
   "execution_count": 93,
   "metadata": {
    "collapsed": false
   },
   "outputs": [
    {
     "data": {
      "text/plain": [
       "17.520311525301977"
      ]
     },
     "execution_count": 93,
     "metadata": {},
     "output_type": "execute_result"
    }
   ],
   "source": [
    "#k = 5 times global mean rating\n",
    "df.rating.mean()*5"
   ]
  },
  {
   "cell_type": "code",
   "execution_count": 81,
   "metadata": {
    "collapsed": false
   },
   "outputs": [
    {
     "data": {
      "text/plain": [
       "593"
      ]
     },
     "execution_count": 81,
     "metadata": {},
     "output_type": "execute_result"
    }
   ],
   "source": [
    "#number of ratings of fight club + k = 5\n",
    "len(df[test]['rating']) + 5"
   ]
  },
  {
   "cell_type": "code",
   "execution_count": 83,
   "metadata": {
    "collapsed": false
   },
   "outputs": [
    {
     "data": {
      "text/plain": [
       "4.2521421779516055"
      ]
     },
     "execution_count": 83,
     "metadata": {},
     "output_type": "execute_result"
    }
   ],
   "source": [
    "#damped mean for fight club\n",
    "((df[test]['rating'].sum())+(df.rating.mean()*5))/(len(df[test]['rating']) + 5)"
   ]
  },
  {
   "cell_type": "code",
   "execution_count": 96,
   "metadata": {
    "collapsed": true
   },
   "outputs": [],
   "source": [
    "#compute basic association rule\n",
    "#find fraction of users that purchased i and j\n",
    "#find fraction of users that purchased j (ex: star wars)"
   ]
  },
  {
   "cell_type": "code",
   "execution_count": 212,
   "metadata": {
    "collapsed": false
   },
   "outputs": [
    {
     "data": {
      "text/plain": [
       "128"
      ]
     },
     "execution_count": 212,
     "metadata": {},
     "output_type": "execute_result"
    }
   ],
   "source": [
    "#find fraction of users that rated j (reference item) ex: star wars\n",
    "j = df['movieId'] == 2761\n",
    "len(df[j]['userId'].unique()) #535 unique users who rated star wars"
   ]
  },
  {
   "cell_type": "code",
   "execution_count": 213,
   "metadata": {
    "collapsed": false
   },
   "outputs": [
    {
     "data": {
      "text/plain": [
       "21"
      ]
     },
     "execution_count": 213,
     "metadata": {},
     "output_type": "execute_result"
    }
   ],
   "source": [
    "#find fraction of users that rated i (fight club in this case)\n",
    "i = df['movieId'] == 2532\n",
    "len(df[i]['userId'].unique()) # 668\n"
   ]
  },
  {
   "cell_type": "code",
   "execution_count": 214,
   "metadata": {
    "collapsed": false
   },
   "outputs": [],
   "source": [
    "fc = pd.Series(df[i]['userId'].unique())\n",
    "sw = pd.Series(df[j]['userId'].unique())"
   ]
  },
  {
   "cell_type": "code",
   "execution_count": 215,
   "metadata": {
    "collapsed": false
   },
   "outputs": [],
   "source": [
    "inter = set(fc).intersection(set(sw))"
   ]
  },
  {
   "cell_type": "code",
   "execution_count": 216,
   "metadata": {
    "collapsed": false
   },
   "outputs": [
    {
     "data": {
      "text/plain": [
       "0.028037383177570093"
      ]
     },
     "execution_count": 216,
     "metadata": {},
     "output_type": "execute_result"
    }
   ],
   "source": [
    "#basic association rule outcome\n",
    "len(inter) / 535"
   ]
  },
  {
   "cell_type": "code",
   "execution_count": 217,
   "metadata": {
    "collapsed": false
   },
   "outputs": [
    {
     "data": {
      "text/plain": [
       "4.810267857142858"
      ]
     },
     "execution_count": 217,
     "metadata": {},
     "output_type": "execute_result"
    }
   ],
   "source": [
    "(len(inter)/862)/((128/862)*(21/862))"
   ]
  },
  {
   "cell_type": "code",
   "execution_count": 218,
   "metadata": {
    "collapsed": false
   },
   "outputs": [
    {
     "data": {
      "text/plain": [
       "862"
      ]
     },
     "execution_count": 218,
     "metadata": {},
     "output_type": "execute_result"
    }
   ],
   "source": [
    "len(df['userId'].unique())"
   ]
  },
  {
   "cell_type": "code",
   "execution_count": 225,
   "metadata": {
    "collapsed": false
   },
   "outputs": [
    {
     "data": {
      "text/plain": [
       "array(['Edward Norton', 'gambling', 'Matt Damon', 'poker', 'watched 2006',\n",
       "       'card games', 'cards', 'John Malkovich', 'John Turturro',\n",
       "       'library vhs', '2.5', 'John Dahl'], dtype=object)"
      ]
     },
     "execution_count": 225,
     "metadata": {},
     "output_type": "execute_result"
    }
   ],
   "source": [
    "tag = tags['movieId']==2231\n",
    "tags[tag]['tag'].unique()"
   ]
  },
  {
   "cell_type": "code",
   "execution_count": null,
   "metadata": {
    "collapsed": true
   },
   "outputs": [],
   "source": []
  },
  {
   "cell_type": "code",
   "execution_count": 227,
   "metadata": {
    "collapsed": false
   },
   "outputs": [
    {
     "data": {
      "text/html": [
       "<div>\n",
       "<table border=\"1\" class=\"dataframe\">\n",
       "  <thead>\n",
       "    <tr style=\"text-align: right;\">\n",
       "      <th></th>\n",
       "      <th>movieId</th>\n",
       "      <th>userId</th>\n",
       "      <th>tag</th>\n",
       "      <th>timestamp</th>\n",
       "    </tr>\n",
       "  </thead>\n",
       "  <tbody>\n",
       "    <tr>\n",
       "      <th>0</th>\n",
       "      <td>3916</td>\n",
       "      <td>12882</td>\n",
       "      <td>sports</td>\n",
       "      <td>1147195545</td>\n",
       "    </tr>\n",
       "    <tr>\n",
       "      <th>1</th>\n",
       "      <td>4085</td>\n",
       "      <td>12882</td>\n",
       "      <td>Eddie Murphy</td>\n",
       "      <td>1147195966</td>\n",
       "    </tr>\n",
       "    <tr>\n",
       "      <th>2</th>\n",
       "      <td>33660</td>\n",
       "      <td>12882</td>\n",
       "      <td>boxing</td>\n",
       "      <td>1147195514</td>\n",
       "    </tr>\n",
       "    <tr>\n",
       "      <th>3</th>\n",
       "      <td>1197</td>\n",
       "      <td>320</td>\n",
       "      <td>must show</td>\n",
       "      <td>1145964801</td>\n",
       "    </tr>\n",
       "    <tr>\n",
       "      <th>4</th>\n",
       "      <td>1396</td>\n",
       "      <td>320</td>\n",
       "      <td>must show</td>\n",
       "      <td>1145964810</td>\n",
       "    </tr>\n",
       "    <tr>\n",
       "      <th>5</th>\n",
       "      <td>2011</td>\n",
       "      <td>320</td>\n",
       "      <td>must show</td>\n",
       "      <td>1145964858</td>\n",
       "    </tr>\n",
       "    <tr>\n",
       "      <th>6</th>\n",
       "      <td>2012</td>\n",
       "      <td>320</td>\n",
       "      <td>must show</td>\n",
       "      <td>1145964915</td>\n",
       "    </tr>\n",
       "    <tr>\n",
       "      <th>7</th>\n",
       "      <td>2502</td>\n",
       "      <td>320</td>\n",
       "      <td>must show</td>\n",
       "      <td>1145964798</td>\n",
       "    </tr>\n",
       "    <tr>\n",
       "      <th>8</th>\n",
       "      <td>2762</td>\n",
       "      <td>320</td>\n",
       "      <td>twist</td>\n",
       "      <td>1145964832</td>\n",
       "    </tr>\n",
       "    <tr>\n",
       "      <th>9</th>\n",
       "      <td>2959</td>\n",
       "      <td>320</td>\n",
       "      <td>twist</td>\n",
       "      <td>1145964658</td>\n",
       "    </tr>\n",
       "    <tr>\n",
       "      <th>10</th>\n",
       "      <td>3996</td>\n",
       "      <td>320</td>\n",
       "      <td>overrated</td>\n",
       "      <td>1145964748</td>\n",
       "    </tr>\n",
       "    <tr>\n",
       "      <th>11</th>\n",
       "      <td>6016</td>\n",
       "      <td>320</td>\n",
       "      <td>violent</td>\n",
       "      <td>1145964670</td>\n",
       "    </tr>\n",
       "    <tr>\n",
       "      <th>12</th>\n",
       "      <td>7438</td>\n",
       "      <td>320</td>\n",
       "      <td>violent</td>\n",
       "      <td>1145964764</td>\n",
       "    </tr>\n",
       "    <tr>\n",
       "      <th>13</th>\n",
       "      <td>1136</td>\n",
       "      <td>121987</td>\n",
       "      <td>Monty Python</td>\n",
       "      <td>1376495639</td>\n",
       "    </tr>\n",
       "    <tr>\n",
       "      <th>14</th>\n",
       "      <td>2115</td>\n",
       "      <td>121987</td>\n",
       "      <td>Harrison Ford</td>\n",
       "      <td>1214180389</td>\n",
       "    </tr>\n",
       "    <tr>\n",
       "      <th>15</th>\n",
       "      <td>31878</td>\n",
       "      <td>121987</td>\n",
       "      <td>piss your pants funny</td>\n",
       "      <td>1249049626</td>\n",
       "    </tr>\n",
       "    <tr>\n",
       "      <th>16</th>\n",
       "      <td>31878</td>\n",
       "      <td>121987</td>\n",
       "      <td>Stephen Chow</td>\n",
       "      <td>1249049635</td>\n",
       "    </tr>\n",
       "    <tr>\n",
       "      <th>17</th>\n",
       "      <td>34405</td>\n",
       "      <td>121987</td>\n",
       "      <td>Firefly</td>\n",
       "      <td>1339617678</td>\n",
       "    </tr>\n",
       "    <tr>\n",
       "      <th>18</th>\n",
       "      <td>59615</td>\n",
       "      <td>121987</td>\n",
       "      <td>adventure</td>\n",
       "      <td>1240947104</td>\n",
       "    </tr>\n",
       "    <tr>\n",
       "      <th>19</th>\n",
       "      <td>59615</td>\n",
       "      <td>121987</td>\n",
       "      <td>aliens</td>\n",
       "      <td>1214180445</td>\n",
       "    </tr>\n",
       "    <tr>\n",
       "      <th>20</th>\n",
       "      <td>59615</td>\n",
       "      <td>121987</td>\n",
       "      <td>archaeology</td>\n",
       "      <td>1214180449</td>\n",
       "    </tr>\n",
       "    <tr>\n",
       "      <th>21</th>\n",
       "      <td>59615</td>\n",
       "      <td>121987</td>\n",
       "      <td>indiana jones</td>\n",
       "      <td>1214180446</td>\n",
       "    </tr>\n",
       "    <tr>\n",
       "      <th>22</th>\n",
       "      <td>59615</td>\n",
       "      <td>121987</td>\n",
       "      <td>plot point:solving riddles/puzzles</td>\n",
       "      <td>1240947110</td>\n",
       "    </tr>\n",
       "    <tr>\n",
       "      <th>23</th>\n",
       "      <td>79091</td>\n",
       "      <td>121987</td>\n",
       "      <td>funny</td>\n",
       "      <td>1298155627</td>\n",
       "    </tr>\n",
       "    <tr>\n",
       "      <th>24</th>\n",
       "      <td>79091</td>\n",
       "      <td>121987</td>\n",
       "      <td>mad scientist</td>\n",
       "      <td>1298156117</td>\n",
       "    </tr>\n",
       "    <tr>\n",
       "      <th>25</th>\n",
       "      <td>79091</td>\n",
       "      <td>121987</td>\n",
       "      <td>minions</td>\n",
       "      <td>1298155516</td>\n",
       "    </tr>\n",
       "    <tr>\n",
       "      <th>26</th>\n",
       "      <td>88140</td>\n",
       "      <td>121987</td>\n",
       "      <td>action</td>\n",
       "      <td>1314414563</td>\n",
       "    </tr>\n",
       "    <tr>\n",
       "      <th>27</th>\n",
       "      <td>88140</td>\n",
       "      <td>121987</td>\n",
       "      <td>Bechdel Test:Fail</td>\n",
       "      <td>1314414555</td>\n",
       "    </tr>\n",
       "    <tr>\n",
       "      <th>28</th>\n",
       "      <td>88140</td>\n",
       "      <td>121987</td>\n",
       "      <td>campy</td>\n",
       "      <td>1314414573</td>\n",
       "    </tr>\n",
       "    <tr>\n",
       "      <th>29</th>\n",
       "      <td>88140</td>\n",
       "      <td>121987</td>\n",
       "      <td>comic book</td>\n",
       "      <td>1314414585</td>\n",
       "    </tr>\n",
       "    <tr>\n",
       "      <th>...</th>\n",
       "      <td>...</td>\n",
       "      <td>...</td>\n",
       "      <td>...</td>\n",
       "      <td>...</td>\n",
       "    </tr>\n",
       "    <tr>\n",
       "      <th>94845</th>\n",
       "      <td>6564</td>\n",
       "      <td>90097</td>\n",
       "      <td>video game adaptation</td>\n",
       "      <td>1336151507</td>\n",
       "    </tr>\n",
       "    <tr>\n",
       "      <th>94846</th>\n",
       "      <td>6565</td>\n",
       "      <td>90097</td>\n",
       "      <td>Equestrian</td>\n",
       "      <td>1336143831</td>\n",
       "    </tr>\n",
       "    <tr>\n",
       "      <th>94847</th>\n",
       "      <td>6565</td>\n",
       "      <td>90097</td>\n",
       "      <td>horse racing</td>\n",
       "      <td>1336143807</td>\n",
       "    </tr>\n",
       "    <tr>\n",
       "      <th>94848</th>\n",
       "      <td>6565</td>\n",
       "      <td>90097</td>\n",
       "      <td>horses</td>\n",
       "      <td>1336143811</td>\n",
       "    </tr>\n",
       "    <tr>\n",
       "      <th>94849</th>\n",
       "      <td>6565</td>\n",
       "      <td>90097</td>\n",
       "      <td>true story</td>\n",
       "      <td>1336143815</td>\n",
       "    </tr>\n",
       "    <tr>\n",
       "      <th>94850</th>\n",
       "      <td>6942</td>\n",
       "      <td>90097</td>\n",
       "      <td>british</td>\n",
       "      <td>1336146014</td>\n",
       "    </tr>\n",
       "    <tr>\n",
       "      <th>94851</th>\n",
       "      <td>6942</td>\n",
       "      <td>90097</td>\n",
       "      <td>christmas</td>\n",
       "      <td>1336145938</td>\n",
       "    </tr>\n",
       "    <tr>\n",
       "      <th>94852</th>\n",
       "      <td>6942</td>\n",
       "      <td>90097</td>\n",
       "      <td>funny</td>\n",
       "      <td>1336145946</td>\n",
       "    </tr>\n",
       "    <tr>\n",
       "      <th>94853</th>\n",
       "      <td>6942</td>\n",
       "      <td>90097</td>\n",
       "      <td>great soundtrack</td>\n",
       "      <td>1336145942</td>\n",
       "    </tr>\n",
       "    <tr>\n",
       "      <th>94854</th>\n",
       "      <td>6942</td>\n",
       "      <td>90097</td>\n",
       "      <td>Hugh Grant</td>\n",
       "      <td>1336146003</td>\n",
       "    </tr>\n",
       "    <tr>\n",
       "      <th>94855</th>\n",
       "      <td>6942</td>\n",
       "      <td>90097</td>\n",
       "      <td>Nudity (Topless - Notable)</td>\n",
       "      <td>1336146034</td>\n",
       "    </tr>\n",
       "    <tr>\n",
       "      <th>94856</th>\n",
       "      <td>6942</td>\n",
       "      <td>90097</td>\n",
       "      <td>Nudity (Topless)</td>\n",
       "      <td>1336146023</td>\n",
       "    </tr>\n",
       "    <tr>\n",
       "      <th>94857</th>\n",
       "      <td>6947</td>\n",
       "      <td>90097</td>\n",
       "      <td>based on a book</td>\n",
       "      <td>1336147497</td>\n",
       "    </tr>\n",
       "    <tr>\n",
       "      <th>94858</th>\n",
       "      <td>6947</td>\n",
       "      <td>90097</td>\n",
       "      <td>death of child</td>\n",
       "      <td>1336147544</td>\n",
       "    </tr>\n",
       "    <tr>\n",
       "      <th>94859</th>\n",
       "      <td>6947</td>\n",
       "      <td>90097</td>\n",
       "      <td>historical</td>\n",
       "      <td>1336147478</td>\n",
       "    </tr>\n",
       "    <tr>\n",
       "      <th>94860</th>\n",
       "      <td>33679</td>\n",
       "      <td>90097</td>\n",
       "      <td>espionage</td>\n",
       "      <td>1336151317</td>\n",
       "    </tr>\n",
       "    <tr>\n",
       "      <th>94861</th>\n",
       "      <td>33679</td>\n",
       "      <td>90097</td>\n",
       "      <td>funny</td>\n",
       "      <td>1336151320</td>\n",
       "    </tr>\n",
       "    <tr>\n",
       "      <th>94862</th>\n",
       "      <td>33679</td>\n",
       "      <td>90097</td>\n",
       "      <td>spies</td>\n",
       "      <td>1336151309</td>\n",
       "    </tr>\n",
       "    <tr>\n",
       "      <th>94863</th>\n",
       "      <td>33679</td>\n",
       "      <td>90097</td>\n",
       "      <td>Strong Women</td>\n",
       "      <td>1336151345</td>\n",
       "    </tr>\n",
       "    <tr>\n",
       "      <th>94864</th>\n",
       "      <td>68954</td>\n",
       "      <td>90097</td>\n",
       "      <td>bittersweet</td>\n",
       "      <td>1336146746</td>\n",
       "    </tr>\n",
       "    <tr>\n",
       "      <th>94865</th>\n",
       "      <td>68954</td>\n",
       "      <td>90097</td>\n",
       "      <td>children</td>\n",
       "      <td>1336146779</td>\n",
       "    </tr>\n",
       "    <tr>\n",
       "      <th>94866</th>\n",
       "      <td>68954</td>\n",
       "      <td>90097</td>\n",
       "      <td>dogs</td>\n",
       "      <td>1336146819</td>\n",
       "    </tr>\n",
       "    <tr>\n",
       "      <th>94867</th>\n",
       "      <td>68954</td>\n",
       "      <td>90097</td>\n",
       "      <td>funny</td>\n",
       "      <td>1336146772</td>\n",
       "    </tr>\n",
       "    <tr>\n",
       "      <th>94868</th>\n",
       "      <td>68954</td>\n",
       "      <td>90097</td>\n",
       "      <td>Pixar</td>\n",
       "      <td>1336146836</td>\n",
       "    </tr>\n",
       "    <tr>\n",
       "      <th>94869</th>\n",
       "      <td>68954</td>\n",
       "      <td>90097</td>\n",
       "      <td>Senior Citizens</td>\n",
       "      <td>1336146796</td>\n",
       "    </tr>\n",
       "    <tr>\n",
       "      <th>94870</th>\n",
       "      <td>68954</td>\n",
       "      <td>90097</td>\n",
       "      <td>South America</td>\n",
       "      <td>1336146828</td>\n",
       "    </tr>\n",
       "    <tr>\n",
       "      <th>94871</th>\n",
       "      <td>68954</td>\n",
       "      <td>90097</td>\n",
       "      <td>talking animals</td>\n",
       "      <td>1336146718</td>\n",
       "    </tr>\n",
       "    <tr>\n",
       "      <th>94872</th>\n",
       "      <td>69122</td>\n",
       "      <td>90097</td>\n",
       "      <td>absurd</td>\n",
       "      <td>1336147285</td>\n",
       "    </tr>\n",
       "    <tr>\n",
       "      <th>94873</th>\n",
       "      <td>73017</td>\n",
       "      <td>90097</td>\n",
       "      <td>dialogue</td>\n",
       "      <td>1336148889</td>\n",
       "    </tr>\n",
       "    <tr>\n",
       "      <th>94874</th>\n",
       "      <td>73017</td>\n",
       "      <td>90097</td>\n",
       "      <td>Sherlock Holmes</td>\n",
       "      <td>1336148896</td>\n",
       "    </tr>\n",
       "  </tbody>\n",
       "</table>\n",
       "<p>94875 rows × 4 columns</p>\n",
       "</div>"
      ],
      "text/plain": [
       "       movieId  userId                                 tag   timestamp\n",
       "0         3916   12882                              sports  1147195545\n",
       "1         4085   12882                        Eddie Murphy  1147195966\n",
       "2        33660   12882                              boxing  1147195514\n",
       "3         1197     320                           must show  1145964801\n",
       "4         1396     320                           must show  1145964810\n",
       "5         2011     320                           must show  1145964858\n",
       "6         2012     320                           must show  1145964915\n",
       "7         2502     320                           must show  1145964798\n",
       "8         2762     320                               twist  1145964832\n",
       "9         2959     320                               twist  1145964658\n",
       "10        3996     320                           overrated  1145964748\n",
       "11        6016     320                             violent  1145964670\n",
       "12        7438     320                             violent  1145964764\n",
       "13        1136  121987                        Monty Python  1376495639\n",
       "14        2115  121987                       Harrison Ford  1214180389\n",
       "15       31878  121987               piss your pants funny  1249049626\n",
       "16       31878  121987                        Stephen Chow  1249049635\n",
       "17       34405  121987                             Firefly  1339617678\n",
       "18       59615  121987                           adventure  1240947104\n",
       "19       59615  121987                              aliens  1214180445\n",
       "20       59615  121987                         archaeology  1214180449\n",
       "21       59615  121987                       indiana jones  1214180446\n",
       "22       59615  121987  plot point:solving riddles/puzzles  1240947110\n",
       "23       79091  121987                               funny  1298155627\n",
       "24       79091  121987                       mad scientist  1298156117\n",
       "25       79091  121987                             minions  1298155516\n",
       "26       88140  121987                              action  1314414563\n",
       "27       88140  121987                   Bechdel Test:Fail  1314414555\n",
       "28       88140  121987                               campy  1314414573\n",
       "29       88140  121987                          comic book  1314414585\n",
       "...        ...     ...                                 ...         ...\n",
       "94845     6564   90097               video game adaptation  1336151507\n",
       "94846     6565   90097                          Equestrian  1336143831\n",
       "94847     6565   90097                        horse racing  1336143807\n",
       "94848     6565   90097                              horses  1336143811\n",
       "94849     6565   90097                          true story  1336143815\n",
       "94850     6942   90097                             british  1336146014\n",
       "94851     6942   90097                           christmas  1336145938\n",
       "94852     6942   90097                               funny  1336145946\n",
       "94853     6942   90097                    great soundtrack  1336145942\n",
       "94854     6942   90097                          Hugh Grant  1336146003\n",
       "94855     6942   90097          Nudity (Topless - Notable)  1336146034\n",
       "94856     6942   90097                    Nudity (Topless)  1336146023\n",
       "94857     6947   90097                     based on a book  1336147497\n",
       "94858     6947   90097                      death of child  1336147544\n",
       "94859     6947   90097                          historical  1336147478\n",
       "94860    33679   90097                           espionage  1336151317\n",
       "94861    33679   90097                               funny  1336151320\n",
       "94862    33679   90097                               spies  1336151309\n",
       "94863    33679   90097                        Strong Women  1336151345\n",
       "94864    68954   90097                         bittersweet  1336146746\n",
       "94865    68954   90097                            children  1336146779\n",
       "94866    68954   90097                                dogs  1336146819\n",
       "94867    68954   90097                               funny  1336146772\n",
       "94868    68954   90097                               Pixar  1336146836\n",
       "94869    68954   90097                     Senior Citizens  1336146796\n",
       "94870    68954   90097                       South America  1336146828\n",
       "94871    68954   90097                     talking animals  1336146718\n",
       "94872    69122   90097                              absurd  1336147285\n",
       "94873    73017   90097                            dialogue  1336148889\n",
       "94874    73017   90097                     Sherlock Holmes  1336148896\n",
       "\n",
       "[94875 rows x 4 columns]"
      ]
     },
     "execution_count": 227,
     "metadata": {},
     "output_type": "execute_result"
    }
   ],
   "source": [
    "tags"
   ]
  },
  {
   "cell_type": "code",
   "execution_count": null,
   "metadata": {
    "collapsed": true
   },
   "outputs": [],
   "source": []
  }
 ],
 "metadata": {
  "kernelspec": {
   "display_name": "Python 3",
   "language": "python",
   "name": "python3"
  },
  "language_info": {
   "codemirror_mode": {
    "name": "ipython",
    "version": 3
   },
   "file_extension": ".py",
   "mimetype": "text/x-python",
   "name": "python",
   "nbconvert_exporter": "python",
   "pygments_lexer": "ipython3",
   "version": "3.5.2"
  }
 },
 "nbformat": 4,
 "nbformat_minor": 1
}
